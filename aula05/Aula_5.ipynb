{
 "cells": [
  {
   "cell_type": "code",
   "execution_count": 23,
   "metadata": {},
   "outputs": [
    {
     "name": "stdout",
     "output_type": "stream",
     "text": [
      "resultado da soma é: 14\n"
     ]
    }
   ],
   "source": [
    "#funcoes\n",
    "def soma(num1, num2):\n",
    "    total = num1 + num2\n",
    "    print('resultado da soma é: {}'.format(total))\n",
    "\n",
    "soma(6, 8)"
   ]
  },
  {
   "cell_type": "code",
   "execution_count": 24,
   "metadata": {},
   "outputs": [
    {
     "name": "stdout",
     "output_type": "stream",
     "text": [
      "resultado da soma é: Tiago Faustino\n"
     ]
    }
   ],
   "source": [
    "soma('Tiago ', 'Faustino')"
   ]
  },
  {
   "cell_type": "code",
   "execution_count": 25,
   "metadata": {},
   "outputs": [],
   "source": [
    "def subtracao(num1, num2):\n",
    "    print('resultado da subtracao é: {}'.format(num1 - num2))\n",
    "\n",
    "def divisao(num1, num2):\n",
    "    print('resultado da divisao é: {}'.format(num1 / num2))\n",
    "\n",
    "def multiplicacao(num1, num2):\n",
    "    print('resultado da multiplicacao é: {}'.format(num1 * num2))"
   ]
  },
  {
   "cell_type": "code",
   "execution_count": 26,
   "metadata": {},
   "outputs": [
    {
     "name": "stdout",
     "output_type": "stream",
     "text": [
      "resultado da subtracao é: 5\n",
      "resultado da divisao é: 2.0\n",
      "resultado da multiplicacao é: 50\n"
     ]
    }
   ],
   "source": [
    "subtracao(10, 5)\n",
    "divisao(10, 5)\n",
    "multiplicacao(10, 5)"
   ]
  },
  {
   "cell_type": "code",
   "execution_count": 27,
   "metadata": {},
   "outputs": [
    {
     "name": "stdout",
     "output_type": "stream",
     "text": [
      "resultado da exponenciacao é: 9\n"
     ]
    }
   ],
   "source": [
    "#Exercicio 1 Aula 5\n",
    "#Criar uma função que receba como parametro 2 números e printe o valor do primeiro numero elevado pelo segundo\n",
    "\n",
    "def exponenciacao(num1, num2):\n",
    "    print('resultado da exponenciacao é: {}'.format(num1 ** num2))\n",
    "\n",
    "exponenciacao(3,2)"
   ]
  },
  {
   "cell_type": "code",
   "execution_count": 28,
   "metadata": {},
   "outputs": [
    {
     "name": "stdout",
     "output_type": "stream",
     "text": [
      "resultado da soma é: 12\n",
      "resultado da subtracao é: 8\n",
      "resultado da divisao é: 5.0\n",
      "resultado da multiplicacao é: 20\n",
      "resultado da exponenciacao é: 100\n",
      "operacao não encontrada\n"
     ]
    }
   ],
   "source": [
    "def matematica(num1, operacao, num2):\n",
    "    if(operacao == '+'):\n",
    "        soma(num1, num2)\n",
    "    elif(operacao == '-'):\n",
    "        subtracao(num1, num2)\n",
    "    elif(operacao == '/'):\n",
    "        divisao(num1, num2)\n",
    "    elif(operacao == '*'):\n",
    "        multiplicacao(num1, num2)\n",
    "    elif(operacao == '**'):\n",
    "        exponenciacao(num1, num2)\n",
    "    else:\n",
    "        print('operacao não encontrada')\n",
    "\n",
    "matematica(10, '+', 2)\n",
    "matematica(10, '-', 2)\n",
    "matematica(10, '/', 2)\n",
    "matematica(10, '*', 2)\n",
    "matematica(10, '**', 2)\n",
    "matematica(10, '%', 2)"
   ]
  },
  {
   "cell_type": "code",
   "execution_count": 31,
   "metadata": {},
   "outputs": [
    {
     "name": "stdout",
     "output_type": "stream",
     "text": [
      "1 2 5\n",
      "1 0 5\n"
     ]
    }
   ],
   "source": [
    "def teste_param(num1, num2 = 0, num3 = 5):\n",
    "    print(num1, num2, num3)\n",
    "\n",
    "teste_param(1,2)\n",
    "teste_param(1)"
   ]
  },
  {
   "cell_type": "code",
   "execution_count": 39,
   "metadata": {},
   "outputs": [
    {
     "name": "stdout",
     "output_type": "stream",
     "text": [
      "{'ano': 2008, 'kilometragem': 57000, 'km_media': 3800.0}\n",
      "carro como nome corolla não encontrado\n",
      "None\n"
     ]
    }
   ],
   "source": [
    "#Exercicio 2 Aula 5\n",
    "# Criar uma funcao para receber como parametro um dicionario (inf_carros) e um nome de carro\n",
    "# e vai retornar as informacoes do carro solicitado por parametro\n",
    "\n",
    "dic_inf_carros = {'sandero': {'ano': 1997, 'kilometragem': 125000, 'km_media': 4807.69},\n",
    " 'gol': {'ano': 2008, 'kilometragem': 57000, 'km_media': 3800.0},\n",
    " 'uno': {'ano': 1980, 'kilometragem': 32900, 'km_media': 765.12},\n",
    " 'fusca': {'ano': 2015, 'kilometragem': 415000, 'km_media': 51875.0},\n",
    " 'opala': {'ano': 1967, 'kilometragem': 20000, 'km_media': 357.14}}\n",
    "\n",
    "def obter_info_carro(dic, nome_carro):\n",
    "    try:\n",
    "        return dic[nome_carro]\n",
    "    except:\n",
    "        print('carro como nome {} não encontrado'.format(nome_carro))\n",
    "\n",
    "print(obter_info_carro(dic_inf_carros, 'gol'))\n",
    "print(obter_info_carro(dic_inf_carros, 'corolla'))"
   ]
  },
  {
   "cell_type": "code",
   "execution_count": 41,
   "metadata": {},
   "outputs": [
    {
     "name": "stdout",
     "output_type": "stream",
     "text": [
      "50\n"
     ]
    }
   ],
   "source": [
    "def soma1(num1, num2):\n",
    "    return num1 + num2\n",
    "\n",
    "resultado = soma1(10,10)\n",
    "resultado1 = soma1(10,20)\n",
    "resultado2 = soma1(resultado, resultado1)\n",
    "print(resultado2)"
   ]
  }
 ],
 "metadata": {
  "kernelspec": {
   "display_name": "Python 3",
   "language": "python",
   "name": "python3"
  },
  "language_info": {
   "codemirror_mode": {
    "name": "ipython",
    "version": 3
   },
   "file_extension": ".py",
   "mimetype": "text/x-python",
   "name": "python",
   "nbconvert_exporter": "python",
   "pygments_lexer": "ipython3",
   "version": "3.11.5"
  },
  "orig_nbformat": 4
 },
 "nbformat": 4,
 "nbformat_minor": 2
}
