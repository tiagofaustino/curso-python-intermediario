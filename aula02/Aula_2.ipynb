{
 "cells": [
  {
   "cell_type": "code",
   "execution_count": 2,
   "metadata": {},
   "outputs": [],
   "source": [
    "import os\n",
    "current_dir = os.path.dirname(os.path.realpath('__file__')) #pega o diretório corrente do arquivo"
   ]
  },
  {
   "cell_type": "code",
   "execution_count": 3,
   "metadata": {},
   "outputs": [],
   "source": [
    "url_ex2 = os.path.join(current_dir, 'dados.txt') #junta as informações de path do arquivo\n",
    "arquivo_ex2 = open(url_ex2, \"w\")"
   ]
  },
  {
   "cell_type": "code",
   "execution_count": 4,
   "metadata": {},
   "outputs": [
    {
     "ename": "FileExistsError",
     "evalue": "[Errno 17] File exists: 'C:\\\\Projects\\\\Estudos\\\\accenture\\\\python-intermediario\\\\curso-python-intermediario\\\\resources\\\\aula02\\\\dados.txt'",
     "output_type": "error",
     "traceback": [
      "\u001b[1;31m---------------------------------------------------------------------------\u001b[0m",
      "\u001b[1;31mFileExistsError\u001b[0m                           Traceback (most recent call last)",
      "\u001b[1;32mc:\\Projects\\Estudos\\accenture\\python-intermediario\\curso-python-intermediario\\resources\\aula02\\Aula_2.ipynb Célula 3\u001b[0m line \u001b[0;36m1\n\u001b[1;32m----> <a href='vscode-notebook-cell:/c%3A/Projects/Estudos/accenture/python-intermediario/curso-python-intermediario/resources/aula02/Aula_2.ipynb#W2sZmlsZQ%3D%3D?line=0'>1</a>\u001b[0m arquivo_ex2 \u001b[39m=\u001b[39m \u001b[39mopen\u001b[39;49m(url_ex2, \u001b[39m\"\u001b[39;49m\u001b[39mx\u001b[39;49m\u001b[39m\"\u001b[39;49m)\n",
      "File \u001b[1;32m~\\AppData\\Roaming\\Python\\Python311\\site-packages\\IPython\\core\\interactiveshell.py:286\u001b[0m, in \u001b[0;36m_modified_open\u001b[1;34m(file, *args, **kwargs)\u001b[0m\n\u001b[0;32m    279\u001b[0m \u001b[39mif\u001b[39;00m file \u001b[39min\u001b[39;00m {\u001b[39m0\u001b[39m, \u001b[39m1\u001b[39m, \u001b[39m2\u001b[39m}:\n\u001b[0;32m    280\u001b[0m     \u001b[39mraise\u001b[39;00m \u001b[39mValueError\u001b[39;00m(\n\u001b[0;32m    281\u001b[0m         \u001b[39mf\u001b[39m\u001b[39m\"\u001b[39m\u001b[39mIPython won\u001b[39m\u001b[39m'\u001b[39m\u001b[39mt let you open fd=\u001b[39m\u001b[39m{\u001b[39;00mfile\u001b[39m}\u001b[39;00m\u001b[39m by default \u001b[39m\u001b[39m\"\u001b[39m\n\u001b[0;32m    282\u001b[0m         \u001b[39m\"\u001b[39m\u001b[39mas it is likely to crash IPython. If you know what you are doing, \u001b[39m\u001b[39m\"\u001b[39m\n\u001b[0;32m    283\u001b[0m         \u001b[39m\"\u001b[39m\u001b[39myou can use builtins\u001b[39m\u001b[39m'\u001b[39m\u001b[39m open.\u001b[39m\u001b[39m\"\u001b[39m\n\u001b[0;32m    284\u001b[0m     )\n\u001b[1;32m--> 286\u001b[0m \u001b[39mreturn\u001b[39;00m io_open(file, \u001b[39m*\u001b[39;49margs, \u001b[39m*\u001b[39;49m\u001b[39m*\u001b[39;49mkwargs)\n",
      "\u001b[1;31mFileExistsError\u001b[0m: [Errno 17] File exists: 'C:\\\\Projects\\\\Estudos\\\\accenture\\\\python-intermediario\\\\curso-python-intermediario\\\\resources\\\\aula02\\\\dados.txt'"
     ]
    }
   ],
   "source": [
    "arquivo_ex2 = open(url_ex2, \"x\")"
   ]
  },
  {
   "cell_type": "code",
   "execution_count": 7,
   "metadata": {},
   "outputs": [
    {
     "name": "stdout",
     "output_type": "stream",
     "text": [
      "erro na abertura do arquivo\n",
      "arquivo aberto com sucesso\n"
     ]
    }
   ],
   "source": [
    "try:\n",
    "    #codigo passivel de erro\n",
    "    arquivo_ex2 = open(url_ex2, 'x')\n",
    "    print('arquivo aberto com sucesso')\n",
    "except:\n",
    "    #acao a ser tomada em caso de erro\n",
    "    print('erro na abertura do arquivo')\n",
    "\n",
    "try:\n",
    "    #codigo passivel de erro\n",
    "    arquivo_ex2 = open(url_ex2, 'w')\n",
    "    print('arquivo aberto com sucesso')\n",
    "except:\n",
    "    #acao a ser tomada em caso de erro\n",
    "    print('erro na abertura do arquivo')"
   ]
  },
  {
   "cell_type": "code",
   "execution_count": 9,
   "metadata": {},
   "outputs": [
    {
     "name": "stdout",
     "output_type": "stream",
     "text": [
      "erro na abertura do arquivo\n",
      "ERRRO\n"
     ]
    }
   ],
   "source": [
    "try:\n",
    "    #codigo passivel de erro\n",
    "    arquivo_ex2 = open(url_ex2, 'x')\n",
    "    print('arquivo aberto com sucesso')\n",
    "except:\n",
    "    #acao a ser tomada em caso de erro\n",
    "    print('erro na abertura do arquivo')\n",
    "    print('ERRRO')"
   ]
  },
  {
   "cell_type": "code",
   "execution_count": 12,
   "metadata": {},
   "outputs": [
    {
     "name": "stdout",
     "output_type": "stream",
     "text": [
      "arquivo aberto com sucesso\n",
      "identado fora do try\n"
     ]
    }
   ],
   "source": [
    "try:\n",
    "    #codigo passivel de erro\n",
    "    arquivo_ex2 = open(url_ex2, 'w')\n",
    "    print('arquivo aberto com sucesso')\n",
    "except:\n",
    "    #acao a ser tomada em caso de erro\n",
    "    print('erro na abertura do arquivo')\n",
    "print('identado fora do try')"
   ]
  },
  {
   "cell_type": "code",
   "execution_count": 29,
   "metadata": {},
   "outputs": [
    {
     "name": "stdout",
     "output_type": "stream",
     "text": [
      "arquivo aberto com sucesso\n",
      "mensagem fora do try\n"
     ]
    }
   ],
   "source": [
    "try:\n",
    "    #codigo passivel de erro\n",
    "    arquivo_ex2 = open(url_ex2, 'w')\n",
    "    print('arquivo aberto com sucesso')\n",
    "except:\n",
    "    #acao a ser tomada em caso de erro\n",
    "    print('erro na abertura do arquivo')\n",
    "\n",
    "\n",
    "\n",
    "print('mensagem fora do try')\n",
    "\n",
    "\n"
   ]
  },
  {
   "cell_type": "code",
   "execution_count": 16,
   "metadata": {},
   "outputs": [
    {
     "name": "stdout",
     "output_type": "stream",
     "text": [
      "erro na abertura do arquivo --> [Errno 17] File exists: 'C:\\\\Projects\\\\Estudos\\\\accenture\\\\python-intermediario\\\\curso-python-intermediario\\\\resources\\\\aula02\\\\dados.txt'\n"
     ]
    }
   ],
   "source": [
    "try:\n",
    "    #codigo passivel de erro\n",
    "    arquivo_ex2 = open(url_ex2, 'x')\n",
    "    print('arquivo aberto com sucesso')\n",
    "except Exception as e:\n",
    "    #acao a ser tomada em caso de erro\n",
    "    print('erro na abertura do arquivo -->', e)"
   ]
  },
  {
   "cell_type": "code",
   "execution_count": 18,
   "metadata": {},
   "outputs": [
    {
     "name": "stdout",
     "output_type": "stream",
     "text": [
      "erro na abertura do arquivo --> [Errno 17] File exists: 'C:\\\\Projects\\\\Estudos\\\\accenture\\\\python-intermediario\\\\curso-python-intermediario\\\\resources\\\\aula02\\\\dados.txt'\n"
     ]
    }
   ],
   "source": [
    "try:\n",
    "    arquivo_ex2 = open(url_ex2, 'x')\n",
    "    print('arquivo aberto com sucesso')\n",
    "except FileExistsError as e:\n",
    "    print('erro na abertura do arquivo -->', e)\n",
    "except Exception as e:\n",
    "    print('erro generico -->', e)"
   ]
  },
  {
   "cell_type": "code",
   "execution_count": null,
   "metadata": {},
   "outputs": [],
   "source": [
    "try:\n",
    "    arquivo_ex2 = open(url_ex2, 'x')\n",
    "    print('arquivo aberto com sucesso')\n",
    "except FileExistsError as e:\n",
    "    print('erro na abertura do arquivo -->', e)\n",
    "except Exception as e:\n",
    "    print('erro generico -->', e)"
   ]
  },
  {
   "cell_type": "code",
   "execution_count": 21,
   "metadata": {},
   "outputs": [
    {
     "data": {
      "text/plain": [
       "False"
      ]
     },
     "execution_count": 21,
     "metadata": {},
     "output_type": "execute_result"
    }
   ],
   "source": [
    "#operadores lógicos\n",
    "#resultados booleanos\n",
    "\n",
    "'a' == 'b'"
   ]
  },
  {
   "cell_type": "code",
   "execution_count": 22,
   "metadata": {},
   "outputs": [
    {
     "data": {
      "text/plain": [
       "True"
      ]
     },
     "execution_count": 22,
     "metadata": {},
     "output_type": "execute_result"
    }
   ],
   "source": [
    "'a' == 'a'"
   ]
  },
  {
   "cell_type": "code",
   "execution_count": 23,
   "metadata": {},
   "outputs": [
    {
     "name": "stdout",
     "output_type": "stream",
     "text": [
      "False\n"
     ]
    }
   ],
   "source": [
    "resultado = 1 > 2\n",
    "print(resultado)"
   ]
  },
  {
   "cell_type": "code",
   "execution_count": 24,
   "metadata": {},
   "outputs": [
    {
     "data": {
      "text/plain": [
       "False"
      ]
     },
     "execution_count": 24,
     "metadata": {},
     "output_type": "execute_result"
    }
   ],
   "source": [
    "nome1 = 'rodrigo'\n",
    "nome2 = 'ana'\n",
    "nome1 == nome2"
   ]
  },
  {
   "cell_type": "code",
   "execution_count": 25,
   "metadata": {},
   "outputs": [
    {
     "data": {
      "text/plain": [
       "True"
      ]
     },
     "execution_count": 25,
     "metadata": {},
     "output_type": "execute_result"
    }
   ],
   "source": [
    "nome1 != nome2"
   ]
  },
  {
   "cell_type": "code",
   "execution_count": 26,
   "metadata": {},
   "outputs": [
    {
     "name": "stdout",
     "output_type": "stream",
     "text": [
      "True\n"
     ]
    }
   ],
   "source": [
    "print(not(nome1 == nome2))"
   ]
  },
  {
   "cell_type": "code",
   "execution_count": 30,
   "metadata": {},
   "outputs": [
    {
     "data": {
      "text/plain": [
       "False"
      ]
     },
     "execution_count": 30,
     "metadata": {},
     "output_type": "execute_result"
    }
   ],
   "source": [
    "True and False"
   ]
  },
  {
   "cell_type": "code",
   "execution_count": 31,
   "metadata": {},
   "outputs": [
    {
     "data": {
      "text/plain": [
       "True"
      ]
     },
     "execution_count": 31,
     "metadata": {},
     "output_type": "execute_result"
    }
   ],
   "source": [
    "True or False"
   ]
  },
  {
   "cell_type": "code",
   "execution_count": null,
   "metadata": {},
   "outputs": [],
   "source": [
    "#estruturas condicionais"
   ]
  },
  {
   "cell_type": "code",
   "execution_count": 33,
   "metadata": {},
   "outputs": [
    {
     "name": "stdout",
     "output_type": "stream",
     "text": [
      "é diferente\n"
     ]
    }
   ],
   "source": [
    "if(1==2):\n",
    "    print('é igual')\n",
    "elif(1<2):\n",
    "    print('é diferente')\n",
    "else:\n",
    "    print('entrou no else')"
   ]
  },
  {
   "cell_type": "code",
   "execution_count": 44,
   "metadata": {},
   "outputs": [
    {
     "name": "stdout",
     "output_type": "stream",
     "text": [
      "É crianca. Idade: 10\n"
     ]
    }
   ],
   "source": [
    "idade = 10\n",
    "\n",
    "if idade >= 18:\n",
    "    print('É adulto. Idade:', idade)\n",
    "elif(idade >=12 and idade < 18):\n",
    "    print('É adolescente. Idade:', idade)\n",
    "else:\n",
    "    print('É crianca. Idade:', idade)"
   ]
  },
  {
   "cell_type": "code",
   "execution_count": 45,
   "metadata": {},
   "outputs": [
    {
     "name": "stdout",
     "output_type": "stream",
     "text": [
      "true\n"
     ]
    }
   ],
   "source": [
    "if True:\n",
    "    print('true')\n",
    "else:\n",
    "    print('false')\n"
   ]
  },
  {
   "cell_type": "code",
   "execution_count": 48,
   "metadata": {},
   "outputs": [
    {
     "name": "stdout",
     "output_type": "stream",
     "text": [
      "novato\n",
      "novato\n"
     ]
    }
   ],
   "source": [
    "######### Exercício 1 aula 2 #########\n",
    "\n",
    "#inicia o arquivo em modo de escrita\n",
    "import os\n",
    "current_dir = os.path.dirname(os.path.realpath('__file__')) #pega o diretório corrente do arquivo\n",
    "url_ex1 = os.path.join(current_dir, 'exercicio-anos-empresa.txt') #junta as informações de path do arquivo\n",
    "arquivo_ex1 = open(url_ex1, \"w\")\n",
    "\n",
    "#cria as váriaveis\n",
    "ano_entrada = '2021\\n'\n",
    "ano_atual = '2023'\n",
    "\n",
    "#escreve os valores no arquivo\n",
    "arquivo_ex1.write(ano_entrada)\n",
    "arquivo_ex1.write(ano_atual)\n",
    "arquivo_ex1.close()\n",
    "\n",
    "#lê o arquivo\n",
    "leitura_ex1 = open(url_ex1, 'r')\n",
    "valor_ano_entrada = int(leitura_ex1.readline().replace('\\n', ''))\n",
    "valor_ano_atual = int(leitura_ex1.readline())\n",
    "leitura_ex1.close()\n",
    "\n",
    "\n",
    "#calcula o tempo de empresa\n",
    "tempo_empresa = valor_ano_atual - valor_ano_entrada\n",
    "\n",
    "'''\n",
    "Ler o arquivo de datas (exercício de ontem) e caso o tempo de empresa seja maior ou igual a 10 anos imprimir 'experiente'.\n",
    "Se for menor que 10 anos, imprimir 'novato'\n",
    "'''\n",
    "if tempo_empresa >= 10:\n",
    "    print('experiente')\n",
    "else:\n",
    "    print('novato')\n",
    "\n",
    "print('experiente' if tempo_empresa >= 10 else 'novato') #experiência com operador ternario"
   ]
  },
  {
   "cell_type": "code",
   "execution_count": 49,
   "metadata": {},
   "outputs": [],
   "source": [
    "#estruturas de repeticao"
   ]
  },
  {
   "cell_type": "code",
   "execution_count": 54,
   "metadata": {},
   "outputs": [
    {
     "name": "stdout",
     "output_type": "stream",
     "text": [
      "1\n",
      "2\n",
      "3\n",
      "4\n",
      "5\n"
     ]
    }
   ],
   "source": [
    "i = 1\n",
    "while(i<=5):\n",
    "    print(i)\n",
    "    i = i+1"
   ]
  },
  {
   "cell_type": "code",
   "execution_count": 66,
   "metadata": {},
   "outputs": [
    {
     "name": "stdout",
     "output_type": "stream",
     "text": [
      "3 . 5\n",
      "3 . 4\n",
      "3 . 3\n",
      "3 . 2\n",
      "3 . 1\n",
      "2 . 5\n",
      "2 . 4\n",
      "2 . 3\n",
      "2 . 2\n",
      "2 . 1\n",
      "1 . 5\n",
      "1 . 4\n",
      "1 . 3\n",
      "1 . 2\n",
      "1 . 1\n"
     ]
    }
   ],
   "source": [
    "item = 3\n",
    "subitem = 5\n",
    "\n",
    "while item > 0:\n",
    "    subitem = 5\n",
    "    while subitem > 0:\n",
    "        print(item, '.', subitem)\n",
    "        subitem = subitem - 1\n",
    "    \n",
    "    item = item - 1"
   ]
  },
  {
   "cell_type": "code",
   "execution_count": 1,
   "metadata": {},
   "outputs": [
    {
     "name": "stdout",
     "output_type": "stream",
     "text": [
      "1.0\n",
      "1.1\n",
      "1.2\n",
      "1.3\n",
      "1.4\n",
      "1.5\n",
      "1.6\n",
      "2.0\n",
      "2.1\n",
      "2.2\n",
      "2.3\n",
      "2.4\n",
      "2.5\n",
      "2.6\n",
      "3.0\n",
      "3.1\n",
      "3.2\n",
      "3.3\n",
      "3.4\n",
      "3.5\n",
      "3.6\n",
      "4.0\n",
      "4.1\n",
      "4.2\n",
      "4.3\n",
      "4.4\n",
      "4.5\n",
      "4.6\n",
      "5.0\n",
      "5.1\n",
      "5.2\n",
      "5.3\n",
      "5.4\n",
      "5.5\n",
      "5.6\n"
     ]
    }
   ],
   "source": [
    "##### Exercício 2 Aula 2 #####\n",
    "\n",
    "''' \n",
    "Criar um sumário com 5 itens e 6 subitens (incluindo zero), em ordem crescente.\n",
    "Utilizar estrutura de repetição while\n",
    "'''\n",
    "\n",
    "max_item = 5\n",
    "max_subitem = 6\n",
    "i = 1\n",
    "\n",
    "while i <= max_item:\n",
    "    s = 0\n",
    "    while s <= max_subitem:\n",
    "        print(i, '.', s, sep='')\n",
    "        s = s + 1\n",
    "    \n",
    "    i = i + 1"
   ]
  }
 ],
 "metadata": {
  "kernelspec": {
   "display_name": "Python 3",
   "language": "python",
   "name": "python3"
  },
  "language_info": {
   "codemirror_mode": {
    "name": "ipython",
    "version": 3
   },
   "file_extension": ".py",
   "mimetype": "text/x-python",
   "name": "python",
   "nbconvert_exporter": "python",
   "pygments_lexer": "ipython3",
   "version": "3.11.5"
  },
  "orig_nbformat": 4
 },
 "nbformat": 4,
 "nbformat_minor": 2
}
