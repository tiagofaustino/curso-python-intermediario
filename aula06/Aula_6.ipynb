{
 "cells": [
  {
   "cell_type": "code",
   "execution_count": 2,
   "metadata": {},
   "outputs": [],
   "source": [
    "#biblioteca datetime\n",
    "\n",
    "import datetime\n",
    "\n",
    "#date -> datas\n",
    "#datetime -> datas e horarios\n",
    "#timedelta -> diferença entre datas"
   ]
  },
  {
   "cell_type": "code",
   "execution_count": 3,
   "metadata": {},
   "outputs": [
    {
     "data": {
      "text/plain": [
       "datetime.date(2023, 9, 25)"
      ]
     },
     "execution_count": 3,
     "metadata": {},
     "output_type": "execute_result"
    }
   ],
   "source": [
    "datetime.date.today()"
   ]
  },
  {
   "cell_type": "code",
   "execution_count": 5,
   "metadata": {},
   "outputs": [
    {
     "data": {
      "text/plain": [
       "datetime.date"
      ]
     },
     "execution_count": 5,
     "metadata": {},
     "output_type": "execute_result"
    }
   ],
   "source": [
    "hoje = datetime.date.today()\n",
    "type(hoje)"
   ]
  },
  {
   "cell_type": "code",
   "execution_count": 7,
   "metadata": {},
   "outputs": [
    {
     "data": {
      "text/plain": [
       "datetime.date(2023, 9, 21)"
      ]
     },
     "execution_count": 7,
     "metadata": {},
     "output_type": "execute_result"
    }
   ],
   "source": [
    "data = datetime.date(2023, 9, 21)\n",
    "data"
   ]
  },
  {
   "cell_type": "code",
   "execution_count": 11,
   "metadata": {},
   "outputs": [
    {
     "data": {
      "text/plain": [
       "2023"
      ]
     },
     "execution_count": 11,
     "metadata": {},
     "output_type": "execute_result"
    }
   ],
   "source": [
    "data.year"
   ]
  },
  {
   "cell_type": "code",
   "execution_count": 12,
   "metadata": {},
   "outputs": [
    {
     "data": {
      "text/plain": [
       "9"
      ]
     },
     "execution_count": 12,
     "metadata": {},
     "output_type": "execute_result"
    }
   ],
   "source": [
    "data.month"
   ]
  },
  {
   "cell_type": "code",
   "execution_count": 13,
   "metadata": {},
   "outputs": [
    {
     "data": {
      "text/plain": [
       "21"
      ]
     },
     "execution_count": 13,
     "metadata": {},
     "output_type": "execute_result"
    }
   ],
   "source": [
    "data.day"
   ]
  },
  {
   "cell_type": "code",
   "execution_count": 16,
   "metadata": {},
   "outputs": [
    {
     "data": {
      "text/plain": [
       "3"
      ]
     },
     "execution_count": 16,
     "metadata": {},
     "output_type": "execute_result"
    }
   ],
   "source": [
    "data.weekday()"
   ]
  },
  {
   "cell_type": "code",
   "execution_count": 19,
   "metadata": {},
   "outputs": [
    {
     "data": {
      "text/plain": [
       "'21/09/2023'"
      ]
     },
     "execution_count": 19,
     "metadata": {},
     "output_type": "execute_result"
    }
   ],
   "source": [
    "data.strftime('%d/%m/%Y')"
   ]
  },
  {
   "cell_type": "code",
   "execution_count": 21,
   "metadata": {},
   "outputs": [
    {
     "data": {
      "text/plain": [
       "datetime.date(2023, 9, 25)"
      ]
     },
     "execution_count": 21,
     "metadata": {},
     "output_type": "execute_result"
    }
   ],
   "source": [
    "from datetime import datetime, date\n",
    "\n",
    "date.today()"
   ]
  },
  {
   "cell_type": "code",
   "execution_count": 22,
   "metadata": {},
   "outputs": [
    {
     "data": {
      "text/plain": [
       "datetime.datetime(2023, 9, 25, 20, 43, 44, 928930)"
      ]
     },
     "execution_count": 22,
     "metadata": {},
     "output_type": "execute_result"
    }
   ],
   "source": [
    "datetime.now()"
   ]
  },
  {
   "cell_type": "code",
   "execution_count": 24,
   "metadata": {},
   "outputs": [
    {
     "data": {
      "text/plain": [
       "datetime.datetime(2023, 9, 25, 20, 44, 19, 830542)"
      ]
     },
     "execution_count": 24,
     "metadata": {},
     "output_type": "execute_result"
    }
   ],
   "source": [
    "agora = datetime.now()\n",
    "agora"
   ]
  },
  {
   "cell_type": "code",
   "execution_count": 25,
   "metadata": {},
   "outputs": [
    {
     "data": {
      "text/plain": [
       "datetime.datetime"
      ]
     },
     "execution_count": 25,
     "metadata": {},
     "output_type": "execute_result"
    }
   ],
   "source": [
    "type(agora)"
   ]
  },
  {
   "cell_type": "code",
   "execution_count": 26,
   "metadata": {},
   "outputs": [
    {
     "data": {
      "text/plain": [
       "''"
      ]
     },
     "execution_count": 26,
     "metadata": {},
     "output_type": "execute_result"
    }
   ],
   "source": [
    "'''\n",
    "datetime    -> import datetime\n",
    "    date    -> from datetime import date\n",
    "    datetime-> from datetime import datetime\n",
    "    timedelta\n",
    "'''"
   ]
  },
  {
   "cell_type": "code",
   "execution_count": 27,
   "metadata": {},
   "outputs": [
    {
     "data": {
      "text/plain": [
       "20"
      ]
     },
     "execution_count": 27,
     "metadata": {},
     "output_type": "execute_result"
    }
   ],
   "source": [
    "agora.hour"
   ]
  },
  {
   "cell_type": "code",
   "execution_count": 28,
   "metadata": {},
   "outputs": [
    {
     "data": {
      "text/plain": [
       "44"
      ]
     },
     "execution_count": 28,
     "metadata": {},
     "output_type": "execute_result"
    }
   ],
   "source": [
    "agora.minute"
   ]
  },
  {
   "cell_type": "code",
   "execution_count": 29,
   "metadata": {},
   "outputs": [
    {
     "data": {
      "text/plain": [
       "19"
      ]
     },
     "execution_count": 29,
     "metadata": {},
     "output_type": "execute_result"
    }
   ],
   "source": [
    "agora.second"
   ]
  },
  {
   "cell_type": "code",
   "execution_count": 30,
   "metadata": {},
   "outputs": [
    {
     "data": {
      "text/plain": [
       "830542"
      ]
     },
     "execution_count": 30,
     "metadata": {},
     "output_type": "execute_result"
    }
   ],
   "source": [
    "agora.microsecond"
   ]
  },
  {
   "cell_type": "code",
   "execution_count": 35,
   "metadata": {},
   "outputs": [
    {
     "data": {
      "text/plain": [
       "'25-09-2023 20:44:19:830542'"
      ]
     },
     "execution_count": 35,
     "metadata": {},
     "output_type": "execute_result"
    }
   ],
   "source": [
    "agora.strftime('%d-%m-%Y %H:%M:%S:%f')"
   ]
  },
  {
   "cell_type": "code",
   "execution_count": 37,
   "metadata": {},
   "outputs": [
    {
     "data": {
      "text/plain": [
       "'25-Sep-2023 20:44:19:830542'"
      ]
     },
     "execution_count": 37,
     "metadata": {},
     "output_type": "execute_result"
    }
   ],
   "source": [
    "agora.strftime('%d-%b-%Y %H:%M:%S:%f')"
   ]
  },
  {
   "cell_type": "code",
   "execution_count": 38,
   "metadata": {},
   "outputs": [],
   "source": [
    "#timedelta\n",
    "from datetime import timedelta"
   ]
  },
  {
   "cell_type": "code",
   "execution_count": 40,
   "metadata": {},
   "outputs": [
    {
     "data": {
      "text/plain": [
       "datetime.timedelta(days=60)"
      ]
     },
     "execution_count": 40,
     "metadata": {},
     "output_type": "execute_result"
    }
   ],
   "source": [
    "diff = timedelta(60)\n",
    "diff"
   ]
  },
  {
   "cell_type": "code",
   "execution_count": 41,
   "metadata": {},
   "outputs": [
    {
     "data": {
      "text/plain": [
       "datetime.datetime(2023, 7, 27, 20, 44, 19, 830542)"
      ]
     },
     "execution_count": 41,
     "metadata": {},
     "output_type": "execute_result"
    }
   ],
   "source": [
    "nova_data = agora - diff\n",
    "nova_data"
   ]
  },
  {
   "cell_type": "code",
   "execution_count": 42,
   "metadata": {},
   "outputs": [
    {
     "name": "stdout",
     "output_type": "stream",
     "text": [
      "60 days, 0:00:00\n"
     ]
    }
   ],
   "source": [
    "print(diff)"
   ]
  },
  {
   "cell_type": "code",
   "execution_count": 43,
   "metadata": {},
   "outputs": [
    {
     "data": {
      "text/plain": [
       "datetime.datetime(2023, 9, 25, 0, 44, 19, 830542)"
      ]
     },
     "execution_count": 43,
     "metadata": {},
     "output_type": "execute_result"
    }
   ],
   "source": [
    "diferenca = agora -timedelta(hours=20)\n",
    "diferenca"
   ]
  },
  {
   "cell_type": "code",
   "execution_count": 44,
   "metadata": {},
   "outputs": [
    {
     "data": {
      "text/plain": [
       "datetime.datetime(2023, 10, 5, 17, 54, 48, 276977)"
      ]
     },
     "execution_count": 44,
     "metadata": {},
     "output_type": "execute_result"
    }
   ],
   "source": [
    "agora = datetime.now()\n",
    "diferenca = agora + timedelta(hours=237)\n",
    "diferenca"
   ]
  },
  {
   "cell_type": "code",
   "execution_count": 46,
   "metadata": {},
   "outputs": [
    {
     "data": {
      "text/plain": [
       "datetime.timedelta(days=90, seconds=11111, microseconds=723023)"
      ]
     },
     "execution_count": 46,
     "metadata": {},
     "output_type": "execute_result"
    }
   ],
   "source": [
    "natal = datetime(2023, 12, 25)\n",
    "diferenca = natal - agora\n",
    "diferenca"
   ]
  },
  {
   "cell_type": "code",
   "execution_count": 47,
   "metadata": {},
   "outputs": [
    {
     "data": {
      "text/plain": [
       "90"
      ]
     },
     "execution_count": 47,
     "metadata": {},
     "output_type": "execute_result"
    }
   ],
   "source": [
    "diferenca.days"
   ]
  },
  {
   "cell_type": "code",
   "execution_count": 12,
   "metadata": {},
   "outputs": [
    {
     "data": {
      "text/plain": [
       "15"
      ]
     },
     "execution_count": 12,
     "metadata": {},
     "output_type": "execute_result"
    }
   ],
   "source": [
    "#Exercicio 1 Aula 6\n",
    "#Criar uma função onde vamos receber por parametro o ano, mes e dia separadamente (inteiros)\n",
    "# que retorne a quantidade de dias para a data atual\n",
    "\n",
    "from datetime import datetime\n",
    "\n",
    "def diferenca_dias(ano, mes, dia):\n",
    "    data_informada = datetime(ano, mes, dia)\n",
    "    hoje = datetime.now()\n",
    "    diff = hoje - data_informada\n",
    "    return diff.days\n",
    "\n",
    "diferenca_dias(2023, 9, 10)"
   ]
  },
  {
   "cell_type": "code",
   "execution_count": 14,
   "metadata": {},
   "outputs": [
    {
     "data": {
      "text/plain": [
       "[1000, 3000, 4000, 200, 50]"
      ]
     },
     "execution_count": 14,
     "metadata": {},
     "output_type": "execute_result"
    }
   ],
   "source": [
    "#list comprehension\n",
    "# forma mais rapida e direta de criarmos ou alterarmos uma lista\n",
    "\n",
    "lista_precos = [500, 1500, 2000, 100, 25]\n",
    "\n",
    "lista_precos2 = []\n",
    "for preco in lista_precos:\n",
    "    lista_precos2.append(preco * 2)\n",
    "\n",
    "lista_precos2\n"
   ]
  },
  {
   "cell_type": "code",
   "execution_count": 15,
   "metadata": {},
   "outputs": [
    {
     "data": {
      "text/plain": [
       "[1000, 3000, 4000, 200, 50]"
      ]
     },
     "execution_count": 15,
     "metadata": {},
     "output_type": "execute_result"
    }
   ],
   "source": [
    "# com list comprehension\n",
    "nova_lista_precos2 = [preco * 2 for preco in lista_precos]\n",
    "nova_lista_precos2"
   ]
  },
  {
   "cell_type": "code",
   "execution_count": 19,
   "metadata": {},
   "outputs": [
    {
     "data": {
      "text/plain": [
       "[0, 750.0, 1000.0, 0, 0]"
      ]
     },
     "execution_count": 19,
     "metadata": {},
     "output_type": "execute_result"
    }
   ],
   "source": [
    "# calcular o impost de 50% nos valores acima de 1000 reais\n",
    "\n",
    "imposto = []\n",
    "for preco in lista_precos:\n",
    "    if preco > 1000:\n",
    "        imposto.append(preco * 0.5)\n",
    "    else:\n",
    "        imposto.append(0)\n",
    "\n",
    "imposto"
   ]
  },
  {
   "cell_type": "code",
   "execution_count": 20,
   "metadata": {},
   "outputs": [
    {
     "data": {
      "text/plain": [
       "[750.0, 1000.0]"
      ]
     },
     "execution_count": 20,
     "metadata": {},
     "output_type": "execute_result"
    }
   ],
   "source": [
    "# usando list comprehension\n",
    "nova_lista_imposto = [preco * 0.5 for preco in lista_precos if preco > 1000]\n",
    "nova_lista_imposto\n",
    "\n"
   ]
  },
  {
   "cell_type": "code",
   "execution_count": 21,
   "metadata": {},
   "outputs": [
    {
     "name": "stdout",
     "output_type": "stream",
     "text": [
      "[['sandero', 'gol', 'uno', 'fusca', 'opala'], [1997, 2008, 1980, 2015, 1967], [125000, 57000, 32900, 415000, 20000], [4807.69, 3800.0, 765.12, 51875.0, 357.14]]\n"
     ]
    }
   ],
   "source": [
    "# Exercicio 2 Aula 6\n",
    "# criar uma nova lista com a kilometragem media dos carros de inf_carros usando list comprehension\n",
    "\n",
    "inf_carros = [['sandero', 'gol', 'uno', 'fusca', 'opala'],\n",
    "    [1997, 2008, 1980, 2015, 1967],\n",
    "    [125000, 57000, 32900, 415000, 20000]]\n",
    "\n",
    "km_media = [round(inf_carros[2][i] / (2023 - inf_carros[1][i]),2) for i in range(len(inf_carros[0]))]\n",
    "inf_carros.append(km_media)\n",
    "print(inf_carros)\n"
   ]
  },
  {
   "cell_type": "code",
   "execution_count": 32,
   "metadata": {},
   "outputs": [
    {
     "data": {
      "text/plain": [
       "{'sandero': {'dias_uso': 9399},\n",
       " 'gol': {'dias_uso': 5381},\n",
       " 'uno': {'dias_uso': 15608},\n",
       " 'fusca': {'dias_uso': 2825},\n",
       " 'opala': {'dias_uso': 20357}}"
      ]
     },
     "execution_count": 32,
     "metadata": {},
     "output_type": "execute_result"
    }
   ],
   "source": [
    "# Exercicio 3 Aula 6\n",
    "# criar uma função que vai receber o inf_carros como parametro, e vai retornar a quantidade de dias de uso para cada carro \n",
    "# de acordo com o seu ano de fabricação\n",
    "# OBS: Utilizar o ultimo dia do ano para calculo\n",
    "from datetime import date\n",
    "\n",
    "dic_dias_uso = {}\n",
    "def retorna_dias_uso(inf_carros):\n",
    "    qtd_carros = len(inf_carros[0])\n",
    "    for i in range(qtd_carros):\n",
    "        dic_dias_uso[inf_carros[0][i]] = {'dias_uso': (date.today() - date.max.replace(year = inf_carros[1][i])).days}\n",
    "    return dic_dias_uso\n",
    "\n",
    "retorna_dias_uso(inf_carros)\n"
   ]
  },
  {
   "cell_type": "code",
   "execution_count": 2,
   "metadata": {},
   "outputs": [
    {
     "name": "stdout",
     "output_type": "stream",
     "text": [
      "939\n",
      "939\n",
      "633\n",
      "633\n",
      "945\n",
      "945\n"
     ]
    }
   ],
   "source": [
    "# Exercicio 4 Aula 6\n",
    "# Criar uma função que recebe o ano, mes e dia separadamente e calcule a diferenca ate o dia de hoje.\n",
    "# Nao deve ser obrigatorio o mes e o dia\n",
    "# caso nao venha o mes, colocar como default mes de dezembro.\n",
    "# e se nao vier o dia, utilizar o ultimo dia do mes\n",
    "\n",
    "import calendar\n",
    "from datetime import datetime\n",
    "\n",
    "#forma 1 de se fazer\n",
    "def diferenca_dias(ano, mes=12): \n",
    "    dia = calendar.monthrange(ano, mes)[1]\n",
    "    return diferenca_dias1(ano, mes, dia)\n",
    "\n",
    "def diferenca_dias1(ano, mes, dia):\n",
    "    return calcula_diferenca(datetime.now(), datetime(ano, mes, dia))\n",
    "\n",
    "#forma 2 de se fazer\n",
    "def diferenca_dias_sol2(ano, mes, dia):\n",
    "    if mes is None or mes <= 0:\n",
    "        mes = 12\n",
    "    if dia is None or dia <= 0:\n",
    "        dia = calendar.monthrange(ano, mes)[1]\n",
    "    return calcula_diferenca(datetime.now(), datetime(ano, mes, dia))\n",
    "\n",
    "def calcula_diferenca(date_time1, date_time2):\n",
    "    diff = date_time1 - date_time2\n",
    "    return diff.days\n",
    "\n",
    "print(diferenca_dias(2021, 2))\n",
    "print(diferenca_dias_sol2(2021, 2, 0))\n",
    "\n",
    "print(diferenca_dias(2021))\n",
    "print(diferenca_dias_sol2(2021, 0, 0))\n",
    "\n",
    "print(diferenca_dias1(2021,2,22))\n",
    "print(diferenca_dias_sol2(2021,2,22))"
   ]
  }
 ],
 "metadata": {
  "kernelspec": {
   "display_name": "Python 3",
   "language": "python",
   "name": "python3"
  },
  "language_info": {
   "codemirror_mode": {
    "name": "ipython",
    "version": 3
   },
   "file_extension": ".py",
   "mimetype": "text/x-python",
   "name": "python",
   "nbconvert_exporter": "python",
   "pygments_lexer": "ipython3",
   "version": "3.11.5"
  },
  "orig_nbformat": 4
 },
 "nbformat": 4,
 "nbformat_minor": 2
}
