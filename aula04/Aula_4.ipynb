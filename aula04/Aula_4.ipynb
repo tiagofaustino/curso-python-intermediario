{
 "cells": [
  {
   "cell_type": "code",
   "execution_count": 131,
   "metadata": {},
   "outputs": [],
   "source": [
    "inf_carros = [['Uno', 'Monza', 'BMW', 'Fusca', 'Opala'], [2000, 2010, 2020, 1990, 1980], [12500, 50000, 100, 343434, 7777], [543.48, 3846.15, 33.33, 10407.09, 180.86]]"
   ]
  },
  {
   "cell_type": "code",
   "execution_count": 132,
   "metadata": {},
   "outputs": [
    {
     "data": {
      "text/plain": [
       "1"
      ]
     },
     "execution_count": 132,
     "metadata": {},
     "output_type": "execute_result"
    }
   ],
   "source": [
    "inf_carros[0].index('Monza')"
   ]
  },
  {
   "cell_type": "code",
   "execution_count": 133,
   "metadata": {},
   "outputs": [
    {
     "name": "stdout",
     "output_type": "stream",
     "text": [
      "Não existe ete ano.\n"
     ]
    }
   ],
   "source": [
    "try:\n",
    "    inf_carros[1].index(1970)\n",
    "except:\n",
    "    print('Não existe ete ano.')"
   ]
  },
  {
   "cell_type": "code",
   "execution_count": 134,
   "metadata": {},
   "outputs": [],
   "source": [
    "#tuplas\n",
    "# a tupla nao pode ser alterada, diferente das listas\n",
    "\n",
    "vogais = ('a','e','i','o','u')"
   ]
  },
  {
   "cell_type": "code",
   "execution_count": 135,
   "metadata": {},
   "outputs": [
    {
     "data": {
      "text/plain": [
       "'a'"
      ]
     },
     "execution_count": 135,
     "metadata": {},
     "output_type": "execute_result"
    }
   ],
   "source": [
    "vogais[0]"
   ]
  },
  {
   "cell_type": "code",
   "execution_count": 136,
   "metadata": {},
   "outputs": [
    {
     "data": {
      "text/plain": [
       "3"
      ]
     },
     "execution_count": 136,
     "metadata": {},
     "output_type": "execute_result"
    }
   ],
   "source": [
    "vogais.index('o')"
   ]
  },
  {
   "cell_type": "code",
   "execution_count": 137,
   "metadata": {},
   "outputs": [
    {
     "data": {
      "text/plain": [
       "True"
      ]
     },
     "execution_count": 137,
     "metadata": {},
     "output_type": "execute_result"
    }
   ],
   "source": [
    "'a' in vogais"
   ]
  },
  {
   "cell_type": "code",
   "execution_count": 138,
   "metadata": {},
   "outputs": [
    {
     "data": {
      "text/plain": [
       "False"
      ]
     },
     "execution_count": 138,
     "metadata": {},
     "output_type": "execute_result"
    }
   ],
   "source": [
    "'z' in vogais"
   ]
  },
  {
   "cell_type": "code",
   "execution_count": 139,
   "metadata": {},
   "outputs": [
    {
     "data": {
      "text/plain": [
       "list"
      ]
     },
     "execution_count": 139,
     "metadata": {},
     "output_type": "execute_result"
    }
   ],
   "source": [
    "lista = [1, ['a', 'e'], vogais]\n",
    "type(lista)"
   ]
  },
  {
   "cell_type": "code",
   "execution_count": 140,
   "metadata": {},
   "outputs": [
    {
     "data": {
      "text/plain": [
       "tuple"
      ]
     },
     "execution_count": 140,
     "metadata": {},
     "output_type": "execute_result"
    }
   ],
   "source": [
    "type(lista[2])"
   ]
  },
  {
   "cell_type": "code",
   "execution_count": 141,
   "metadata": {},
   "outputs": [
    {
     "data": {
      "text/plain": [
       "'i'"
      ]
     },
     "execution_count": 141,
     "metadata": {},
     "output_type": "execute_result"
    }
   ],
   "source": [
    "lista[2][2]"
   ]
  },
  {
   "cell_type": "code",
   "execution_count": 142,
   "metadata": {},
   "outputs": [
    {
     "name": "stdout",
     "output_type": "stream",
     "text": [
      "[['grande tijuca', 'novembro'], ['norte shopping ', 'dezembro'], ['villa lobos', 'março'], ['plaza niteroi', 'maio'], ['grande recife', 'agosto']]\n"
     ]
    }
   ],
   "source": [
    "#Exercicio 1 Aula 4\n",
    "# Gerar uma lista com o nome do shopping, sem  a palavra shopping do inicio e o nome do mes por extenso buscando na tupla\n",
    "#resultado = [['grande tijuca', 'novembro'], ['norte shopping', 'dezembro'] ... ]\n",
    "\n",
    "tup = ('janeiro','fevreiro','março','abril','maio','junho','julho','agosto','setembro','outubro','novembro','dezembro')\n",
    "shp = [['shopping grande tijuca',11], ['shopping norte shopping ',12], ['shopping villa lobos',3], ['shopping plaza niteroi',5], ['shopping grande recife',8]]\n",
    "\n",
    "resultado = []\n",
    "for s in shp:\n",
    "    resultado.append([s[0].replace('shopping ', '', 1), tup[s[1]-1]])\n",
    "print(resultado)"
   ]
  },
  {
   "cell_type": "code",
   "execution_count": 143,
   "metadata": {},
   "outputs": [],
   "source": [
    "#dicionario\n",
    "# colecao de dados baseado em chave / valor\n",
    "\n",
    "#sintaxe\n",
    "\n",
    "variavel = {}"
   ]
  },
  {
   "cell_type": "code",
   "execution_count": 144,
   "metadata": {},
   "outputs": [
    {
     "data": {
      "text/plain": [
       "dict"
      ]
     },
     "execution_count": 144,
     "metadata": {},
     "output_type": "execute_result"
    }
   ],
   "source": [
    "dic = {}\n",
    "type(dic)"
   ]
  },
  {
   "cell_type": "code",
   "execution_count": 145,
   "metadata": {},
   "outputs": [
    {
     "name": "stdout",
     "output_type": "stream",
     "text": [
      "{1: 'rodrigo', 2: 'isabela', 3: 'ronaldo', 4: 'eduardo'}\n"
     ]
    }
   ],
   "source": [
    "dic.update({1: 'rodrigo'})\n",
    "dic.update({2: 'isabela'})\n",
    "dic.update({3: 'ronaldo'})\n",
    "dic.update({4: 'eduardo'})\n",
    "\n",
    "print(dic)"
   ]
  },
  {
   "cell_type": "code",
   "execution_count": 146,
   "metadata": {},
   "outputs": [
    {
     "data": {
      "text/plain": [
       "4"
      ]
     },
     "execution_count": 146,
     "metadata": {},
     "output_type": "execute_result"
    }
   ],
   "source": [
    "len(dic)"
   ]
  },
  {
   "cell_type": "code",
   "execution_count": 147,
   "metadata": {},
   "outputs": [
    {
     "name": "stdout",
     "output_type": "stream",
     "text": [
      "{1: 'rodrigo', 2: 'isabela', 3: 'ronaldo', 4: 'eduardo', 5: 'renan'}\n"
     ]
    }
   ],
   "source": [
    "dic[5] = 'renan'\n",
    "\n",
    "print(dic)"
   ]
  },
  {
   "cell_type": "code",
   "execution_count": 148,
   "metadata": {},
   "outputs": [
    {
     "name": "stdout",
     "output_type": "stream",
     "text": [
      "{1: 'rodrigo', 2: 'isabela', 3: 'ronaldo', 4: 'eduardo', 5: 'renan', 10: 'tercio'}\n"
     ]
    }
   ],
   "source": [
    "dic[10] = 'tercio'\n",
    "print(dic)"
   ]
  },
  {
   "cell_type": "code",
   "execution_count": 149,
   "metadata": {},
   "outputs": [
    {
     "name": "stdout",
     "output_type": "stream",
     "text": [
      "{1: 'rodrigo', 2: 'isabela', 3: 'ronaldo', 4: 'eduardo', 5: 'renan', 10: 'tercio', 'dinah': 'analista'}\n"
     ]
    }
   ],
   "source": [
    "dic['dinah'] = 'analista'\n",
    "print(dic)"
   ]
  },
  {
   "cell_type": "code",
   "execution_count": 150,
   "metadata": {},
   "outputs": [
    {
     "data": {
      "text/plain": [
       "{1: 'rodrigo',\n",
       " 2: 'isabela',\n",
       " 3: 'ronaldo',\n",
       " 4: 'eduardo',\n",
       " 5: 'renan',\n",
       " 10: 'tercio',\n",
       " 'dinah': 'analista',\n",
       " 'fabio': 'mesel'}"
      ]
     },
     "execution_count": 150,
     "metadata": {},
     "output_type": "execute_result"
    }
   ],
   "source": [
    "nome = 'fabio'\n",
    "valor = 'mesel'\n",
    "dic[nome] = valor\n",
    "dic"
   ]
  },
  {
   "cell_type": "code",
   "execution_count": 151,
   "metadata": {},
   "outputs": [
    {
     "data": {
      "text/plain": [
       "{1: 'rodrigo',\n",
       " 2: 'isabela',\n",
       " 3: 'ronaldo',\n",
       " 4: 'eduardo',\n",
       " 5: 'renan',\n",
       " 10: 'tercio',\n",
       " 'dinah': 'analista',\n",
       " 'fabio': 'mesel',\n",
       " 'rodrigo miranda': ['consultor', 2009]}"
      ]
     },
     "execution_count": 151,
     "metadata": {},
     "output_type": "execute_result"
    }
   ],
   "source": [
    "dic['rodrigo miranda'] = ['consultor', 2009]\n",
    "dic"
   ]
  },
  {
   "cell_type": "code",
   "execution_count": 152,
   "metadata": {},
   "outputs": [
    {
     "data": {
      "text/plain": [
       "'rodrigo'"
      ]
     },
     "execution_count": 152,
     "metadata": {},
     "output_type": "execute_result"
    }
   ],
   "source": [
    "dic[1]"
   ]
  },
  {
   "cell_type": "code",
   "execution_count": 153,
   "metadata": {},
   "outputs": [],
   "source": [
    "#dic[0] #vai dar erro, pois nao tem nenhuma chave 0"
   ]
  },
  {
   "cell_type": "code",
   "execution_count": 154,
   "metadata": {},
   "outputs": [
    {
     "data": {
      "text/plain": [
       "'analista'"
      ]
     },
     "execution_count": 154,
     "metadata": {},
     "output_type": "execute_result"
    }
   ],
   "source": [
    "dic['dinah']"
   ]
  },
  {
   "cell_type": "code",
   "execution_count": 155,
   "metadata": {},
   "outputs": [
    {
     "data": {
      "text/plain": [
       "['consultor', 2009]"
      ]
     },
     "execution_count": 155,
     "metadata": {},
     "output_type": "execute_result"
    }
   ],
   "source": [
    "dic['rodrigo miranda']"
   ]
  },
  {
   "cell_type": "code",
   "execution_count": 156,
   "metadata": {},
   "outputs": [
    {
     "data": {
      "text/plain": [
       "{1: 'rodrigo',\n",
       " 2: 'isabela',\n",
       " 3: 'ronaldo',\n",
       " 4: 'eduardo',\n",
       " 5: 'renan',\n",
       " 10: 'tercio',\n",
       " 'dinah': 'analista',\n",
       " 'fabio': 'mesel',\n",
       " 'rodrigo miranda': ['consultor', 2009],\n",
       " 'marlon sousa': {'cidade': 'recife',\n",
       "  'cargo': 'consultor',\n",
       "  'eid': 'marlon.c.sousa'}}"
      ]
     },
     "execution_count": 156,
     "metadata": {},
     "output_type": "execute_result"
    }
   ],
   "source": [
    "nome = 'marlon'\n",
    "sobrenome = 'sousa'\n",
    "cargo = 'consultor'\n",
    "cidade = 'recife'\n",
    "eid = 'marlon.c.sousa'\n",
    "\n",
    "dic[nome + ' ' + sobrenome] = {'cidade': cidade, 'cargo': cargo, 'eid': eid}\n",
    "dic"
   ]
  },
  {
   "cell_type": "code",
   "execution_count": 157,
   "metadata": {},
   "outputs": [
    {
     "data": {
      "text/plain": [
       "{'cidade': 'recife', 'cargo': 'consultor', 'eid': 'marlon.c.sousa'}"
      ]
     },
     "execution_count": 157,
     "metadata": {},
     "output_type": "execute_result"
    }
   ],
   "source": [
    "dic['marlon sousa']"
   ]
  },
  {
   "cell_type": "code",
   "execution_count": 158,
   "metadata": {},
   "outputs": [
    {
     "data": {
      "text/plain": [
       "'recife'"
      ]
     },
     "execution_count": 158,
     "metadata": {},
     "output_type": "execute_result"
    }
   ],
   "source": [
    "dic['marlon sousa']['cidade']"
   ]
  },
  {
   "cell_type": "code",
   "execution_count": 159,
   "metadata": {},
   "outputs": [
    {
     "data": {
      "text/plain": [
       "'rodrigo'"
      ]
     },
     "execution_count": 159,
     "metadata": {},
     "output_type": "execute_result"
    }
   ],
   "source": [
    "dic.pop(1)"
   ]
  },
  {
   "cell_type": "code",
   "execution_count": 160,
   "metadata": {},
   "outputs": [
    {
     "data": {
      "text/plain": [
       "{2: 'isabela',\n",
       " 3: 'ronaldo',\n",
       " 4: 'eduardo',\n",
       " 5: 'renan',\n",
       " 10: 'tercio',\n",
       " 'dinah': 'analista',\n",
       " 'fabio': 'mesel',\n",
       " 'rodrigo miranda': ['consultor', 2009],\n",
       " 'marlon sousa': {'cidade': 'recife',\n",
       "  'cargo': 'consultor',\n",
       "  'eid': 'marlon.c.sousa'}}"
      ]
     },
     "execution_count": 160,
     "metadata": {},
     "output_type": "execute_result"
    }
   ],
   "source": [
    "dic"
   ]
  },
  {
   "cell_type": "code",
   "execution_count": 161,
   "metadata": {},
   "outputs": [],
   "source": [
    "del dic[2]"
   ]
  },
  {
   "cell_type": "code",
   "execution_count": 162,
   "metadata": {},
   "outputs": [
    {
     "data": {
      "text/plain": [
       "{3: 'ronaldo',\n",
       " 4: 'eduardo',\n",
       " 5: 'renan',\n",
       " 10: 'tercio',\n",
       " 'dinah': 'analista',\n",
       " 'fabio': 'mesel',\n",
       " 'rodrigo miranda': ['consultor', 2009],\n",
       " 'marlon sousa': {'cidade': 'recife',\n",
       "  'cargo': 'consultor',\n",
       "  'eid': 'marlon.c.sousa'}}"
      ]
     },
     "execution_count": 162,
     "metadata": {},
     "output_type": "execute_result"
    }
   ],
   "source": [
    "dic"
   ]
  },
  {
   "cell_type": "code",
   "execution_count": 163,
   "metadata": {},
   "outputs": [
    {
     "name": "stdout",
     "output_type": "stream",
     "text": [
      "3  -  ronaldo\n",
      "4  -  eduardo\n",
      "5  -  renan\n",
      "10  -  tercio\n",
      "dinah  -  analista\n",
      "fabio  -  mesel\n",
      "rodrigo miranda  -  ['consultor', 2009]\n",
      "marlon sousa  -  {'cidade': 'recife', 'cargo': 'consultor', 'eid': 'marlon.c.sousa'}\n"
     ]
    }
   ],
   "source": [
    "for chv in dic:\n",
    "    print(chv, ' - ', dic[chv])"
   ]
  },
  {
   "cell_type": "code",
   "execution_count": 165,
   "metadata": {},
   "outputs": [
    {
     "data": {
      "text/plain": [
       "{'sandero': {'ano': 1997, 'kilometragem': 125000, 'km_media': 4807.69},\n",
       " 'gol': {'ano': 2008, 'kilometragem': 57000, 'km_media': 3800.0},\n",
       " 'uno': {'ano': 1980, 'kilometragem': 32900, 'km_media': 765.12},\n",
       " 'fusca': {'ano': 2015, 'kilometragem': 415000, 'km_media': 51875.0},\n",
       " 'opala': {'ano': 1967, 'kilometragem': 20000, 'km_media': 357.14}}"
      ]
     },
     "execution_count": 165,
     "metadata": {},
     "output_type": "execute_result"
    }
   ],
   "source": [
    "#Exercicio 2 Aula 3\n",
    "#Converter inf_carros para um dicionário, onde o nome do carro seja a chave dicionario e as demais informacoes sejam um outro dicionario\n",
    "#dicionario = {'sandero': {'ano': 1997, 'kilometragem': 125000, 'km_media': 4807.69}}\n",
    "\n",
    "inf_carros = [['sandero', 'gol', 'uno', 'fusca', 'opala'],\n",
    "    [1997, 2008, 1980, 2015, 1967],\n",
    "    [125000, 57000, 32900, 415000, 20000],\n",
    "    [4807.69, 3800.0, 765.12, 51875.0, 357.14]]\n",
    "\n",
    "dic_inf_carros = {}\n",
    "qtd_carros = len(inf_carros[0])\n",
    "\n",
    "for i in range(qtd_carros):\n",
    "    dic_inf_carros[inf_carros[0][i]] = {'ano': inf_carros[1][i], 'kilometragem': inf_carros[2][i], 'km_media': inf_carros[3][i]}\n",
    "\n",
    "dic_inf_carros"
   ]
  },
  {
   "cell_type": "code",
   "execution_count": null,
   "metadata": {},
   "outputs": [],
   "source": [
    "\n",
    "\n"
   ]
  }
 ],
 "metadata": {
  "kernelspec": {
   "display_name": "Python 3",
   "language": "python",
   "name": "python3"
  },
  "language_info": {
   "codemirror_mode": {
    "name": "ipython",
    "version": 3
   },
   "file_extension": ".py",
   "mimetype": "text/x-python",
   "name": "python",
   "nbconvert_exporter": "python",
   "pygments_lexer": "ipython3",
   "version": "3.11.5"
  },
  "orig_nbformat": 4
 },
 "nbformat": 4,
 "nbformat_minor": 2
}
