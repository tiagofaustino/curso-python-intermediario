{
 "cells": [
  {
   "cell_type": "code",
   "execution_count": 56,
   "metadata": {},
   "outputs": [
    {
     "name": "stdout",
     "output_type": "stream",
     "text": [
      "1\n",
      "2\n",
      "3\n",
      "4\n"
     ]
    }
   ],
   "source": [
    "item = 1\n",
    "while item != 5:\n",
    "    print(item)\n",
    "    item += 1 # ou item = item + 1"
   ]
  },
  {
   "cell_type": "code",
   "execution_count": 57,
   "metadata": {},
   "outputs": [
    {
     "name": "stdout",
     "output_type": "stream",
     "text": [
      "R\n",
      "o\n",
      "d\n",
      "r\n",
      "i\n",
      "g\n",
      "o\n"
     ]
    }
   ],
   "source": [
    "nome = 'Rodrigo'\n",
    "for var in nome:\n",
    "    print(var)"
   ]
  },
  {
   "cell_type": "code",
   "execution_count": 58,
   "metadata": {},
   "outputs": [
    {
     "name": "stdout",
     "output_type": "stream",
     "text": [
      "0\n",
      "1\n",
      "2\n",
      "3\n",
      "4\n",
      "5\n",
      "6\n",
      "7\n",
      "8\n",
      "9\n"
     ]
    }
   ],
   "source": [
    "for num in range(0,10):\n",
    "    print(num)"
   ]
  },
  {
   "cell_type": "code",
   "execution_count": 59,
   "metadata": {},
   "outputs": [
    {
     "name": "stdout",
     "output_type": "stream",
     "text": [
      "0\n",
      "1\n",
      "4\n",
      "9\n",
      "16\n",
      "25\n",
      "36\n",
      "49\n",
      "64\n",
      "81\n"
     ]
    }
   ],
   "source": [
    "for num in range(0,10):\n",
    "    print(num ** 2)"
   ]
  },
  {
   "cell_type": "code",
   "execution_count": 60,
   "metadata": {},
   "outputs": [
    {
     "name": "stdout",
     "output_type": "stream",
     "text": [
      "1050\n",
      "1050\n",
      "1050\n"
     ]
    }
   ],
   "source": [
    "### Exercício 1 Aula 3 \n",
    "# printar a soma de todos os multiplos de 5 entre 0 e 100\n",
    "#usando for\n",
    "\n",
    "#modo que eu fiz rápido\n",
    "soma = 0\n",
    "for n in range(0,101):\n",
    "    mult = n * 5\n",
    "    if mult <= 100:\n",
    "        soma += mult\n",
    "print(soma)\n",
    "\n",
    "#depois que o professor explicou o \"%\"\n",
    "soma = 0\n",
    "for n in range(0,101):\n",
    "    if n%5 == 0:\n",
    "        soma += n\n",
    "print(soma)\n",
    "\n",
    "#forma 3 usando o intervalo do range\n",
    "soma = 0\n",
    "for n in range(0,101, 5):\n",
    "    soma += n\n",
    "print(soma)\n"
   ]
  },
  {
   "cell_type": "code",
   "execution_count": 61,
   "metadata": {},
   "outputs": [
    {
     "name": "stdout",
     "output_type": "stream",
     "text": [
      "R\n",
      "o\n",
      "d\n",
      "r\n",
      "i\n",
      "g\n",
      "o\n"
     ]
    }
   ],
   "source": [
    "nome = 'Rodrigo'\n",
    "for i in range(0,7):\n",
    "    print(nome[i])"
   ]
  },
  {
   "cell_type": "code",
   "execution_count": 62,
   "metadata": {},
   "outputs": [
    {
     "data": {
      "text/plain": [
       "'o'"
      ]
     },
     "execution_count": 62,
     "metadata": {},
     "output_type": "execute_result"
    }
   ],
   "source": [
    "nome[-1]"
   ]
  },
  {
   "cell_type": "code",
   "execution_count": 63,
   "metadata": {},
   "outputs": [
    {
     "name": "stdout",
     "output_type": "stream",
     "text": [
      "R\n",
      "o\n",
      "d\n",
      "r\n",
      "i\n",
      "g\n",
      "o\n"
     ]
    }
   ],
   "source": [
    "nome = 'Rodrigo'\n",
    "for i in range(0,len(nome)):\n",
    "    print(nome[i])"
   ]
  },
  {
   "cell_type": "code",
   "execution_count": 64,
   "metadata": {},
   "outputs": [
    {
     "data": {
      "text/plain": [
       "'2023'"
      ]
     },
     "execution_count": 64,
     "metadata": {},
     "output_type": "execute_result"
    }
   ],
   "source": [
    "documento = '999988888848483433212112023'\n",
    "documento[-4:]"
   ]
  },
  {
   "cell_type": "code",
   "execution_count": 65,
   "metadata": {},
   "outputs": [
    {
     "name": "stdout",
     "output_type": "stream",
     "text": [
      "Quantidade de números pares: 9. Quantidade de números ímpares: 9.\n"
     ]
    }
   ],
   "source": [
    "### Exercício 2 Aula 3 \n",
    "# Ler arquivo de numeros e printar a quantidade de numeros pares e numeros impares\n",
    "\n",
    "# leitura arquivo\n",
    "import os\n",
    "current_dir = os.path.dirname(os.path.realpath('__file__')) #pega o diretório corrente do arquivo\n",
    "url_ex1 = os.path.join(current_dir, 'numeros.txt') #junta as informações de path do arquivo\n",
    "arquivo_ex1 = open(url_ex1, \"r\")\n",
    "\n",
    "pares = 0\n",
    "impares = 0\n",
    "for linha in arquivo_ex1:\n",
    "    if int(linha)%2 == 0:\n",
    "        pares += 1\n",
    "    else: impares += 1\n",
    "print(\"Quantidade de números pares: {}. Quantidade de números ímpares: {}.\".format(pares, impares))\n"
   ]
  },
  {
   "cell_type": "code",
   "execution_count": 66,
   "metadata": {},
   "outputs": [],
   "source": [
    "carros = ['Uno', 'Gol', 'Sandero', 'BMW', 'Fusca']"
   ]
  },
  {
   "cell_type": "code",
   "execution_count": 67,
   "metadata": {},
   "outputs": [
    {
     "data": {
      "text/plain": [
       "list"
      ]
     },
     "execution_count": 67,
     "metadata": {},
     "output_type": "execute_result"
    }
   ],
   "source": [
    "type(carros)"
   ]
  },
  {
   "cell_type": "code",
   "execution_count": 68,
   "metadata": {},
   "outputs": [],
   "source": [
    "numeros = [1,2,3,4,4,5,5656,453]"
   ]
  },
  {
   "cell_type": "code",
   "execution_count": 69,
   "metadata": {},
   "outputs": [],
   "source": [
    "lista = ['rodrigo', 12321, 12.22, ['consultor', 'dev']]"
   ]
  },
  {
   "cell_type": "code",
   "execution_count": 70,
   "metadata": {},
   "outputs": [
    {
     "data": {
      "text/plain": [
       "[1, 2, 3, 4, 4, 5, 5656, 453]"
      ]
     },
     "execution_count": 70,
     "metadata": {},
     "output_type": "execute_result"
    }
   ],
   "source": [
    "numeros"
   ]
  },
  {
   "cell_type": "code",
   "execution_count": 71,
   "metadata": {},
   "outputs": [
    {
     "data": {
      "text/plain": [
       "4"
      ]
     },
     "execution_count": 71,
     "metadata": {},
     "output_type": "execute_result"
    }
   ],
   "source": [
    "len(lista)"
   ]
  },
  {
   "cell_type": "code",
   "execution_count": 72,
   "metadata": {},
   "outputs": [
    {
     "data": {
      "text/plain": [
       "2"
      ]
     },
     "execution_count": 72,
     "metadata": {},
     "output_type": "execute_result"
    }
   ],
   "source": [
    "len(lista[3])"
   ]
  },
  {
   "cell_type": "code",
   "execution_count": 73,
   "metadata": {},
   "outputs": [
    {
     "data": {
      "text/plain": [
       "str"
      ]
     },
     "execution_count": 73,
     "metadata": {},
     "output_type": "execute_result"
    }
   ],
   "source": [
    "type(lista[0])"
   ]
  },
  {
   "cell_type": "code",
   "execution_count": 74,
   "metadata": {},
   "outputs": [
    {
     "data": {
      "text/plain": [
       "int"
      ]
     },
     "execution_count": 74,
     "metadata": {},
     "output_type": "execute_result"
    }
   ],
   "source": [
    "type(lista[1])"
   ]
  },
  {
   "cell_type": "code",
   "execution_count": 75,
   "metadata": {},
   "outputs": [
    {
     "data": {
      "text/plain": [
       "list"
      ]
     },
     "execution_count": 75,
     "metadata": {},
     "output_type": "execute_result"
    }
   ],
   "source": [
    "type(lista[3])"
   ]
  },
  {
   "cell_type": "code",
   "execution_count": 76,
   "metadata": {},
   "outputs": [
    {
     "data": {
      "text/plain": [
       "'consultor'"
      ]
     },
     "execution_count": 76,
     "metadata": {},
     "output_type": "execute_result"
    }
   ],
   "source": [
    "lista[3][0]"
   ]
  },
  {
   "cell_type": "code",
   "execution_count": 77,
   "metadata": {},
   "outputs": [
    {
     "name": "stdout",
     "output_type": "stream",
     "text": [
      "consultor\n",
      "dev\n"
     ]
    }
   ],
   "source": [
    "for x in lista[3]:\n",
    "    print(x)"
   ]
  },
  {
   "cell_type": "code",
   "execution_count": 78,
   "metadata": {},
   "outputs": [],
   "source": [
    "lista2 = ['rodrigo', 123, ['consultor', 'dev', ['pleno', 'senior']]]"
   ]
  },
  {
   "cell_type": "code",
   "execution_count": 81,
   "metadata": {},
   "outputs": [
    {
     "data": {
      "text/plain": [
       "'pleno'"
      ]
     },
     "execution_count": 81,
     "metadata": {},
     "output_type": "execute_result"
    }
   ],
   "source": [
    "lista2[2][2][0]"
   ]
  },
  {
   "cell_type": "code",
   "execution_count": null,
   "metadata": {},
   "outputs": [],
   "source": [
    "for obj in lista2:\n",
    "    if type(obj) != list:\n",
    "        print(obj)\n",
    "        for obj2 in obj:\n",
    "            if type(obj2) != list:\n",
    "                print(obj2)\n",
    "                for obj3 in obj2:\n",
    "                    if type(obj3) != list:\n",
    "                        print(obj3)\n"
   ]
  },
  {
   "cell_type": "code",
   "execution_count": 96,
   "metadata": {},
   "outputs": [
    {
     "name": "stdout",
     "output_type": "stream",
     "text": [
      "['Uno', 'Monza', 'BMW', 'Fusca', 'Opala']\n",
      "['Uno', 'BMW', 'Fusca', 'Opala']\n",
      "['Uno', 'Monza', 'BMW', 'Fusca', 'Opala']\n"
     ]
    }
   ],
   "source": [
    "carros = ['Uno', 'Monza', 'BMW', 'Fusca']\n",
    "carros.append('Opala')\n",
    "print(carros)\n",
    "\n",
    "carros.pop(1)\n",
    "print(carros)\n",
    "\n",
    "carros.insert(1, 'Monza')\n",
    "print(carros)"
   ]
  },
  {
   "cell_type": "code",
   "execution_count": 100,
   "metadata": {},
   "outputs": [
    {
     "name": "stdout",
     "output_type": "stream",
     "text": [
      "[['Uno', 'Monza', 'BMW', 'Fusca', 'Opala'], [2000, 2010, 2020, 1990, 1980]]\n"
     ]
    }
   ],
   "source": [
    "anos = [2000, 2010, 2020, 1990, 1980]\n",
    "inf_carros = [carros, anos]\n",
    "print(inf_carros)"
   ]
  },
  {
   "cell_type": "code",
   "execution_count": 102,
   "metadata": {},
   "outputs": [
    {
     "name": "stdout",
     "output_type": "stream",
     "text": [
      "Uno 2000\n",
      "Fusca 1990\n"
     ]
    }
   ],
   "source": [
    "print(inf_carros[0][0], inf_carros[1][0])\n",
    "print(inf_carros[0][3], inf_carros[1][3])"
   ]
  },
  {
   "cell_type": "code",
   "execution_count": 103,
   "metadata": {},
   "outputs": [],
   "source": [
    "kms = [12500, 50000, 100, 343434, 7777]"
   ]
  },
  {
   "cell_type": "code",
   "execution_count": 104,
   "metadata": {},
   "outputs": [
    {
     "data": {
      "text/plain": [
       "[['Uno', 'Monza', 'BMW', 'Fusca', 'Opala'],\n",
       " [2000, 2010, 2020, 1990, 1980],\n",
       " [12500, 50000, 100, 343434, 7777]]"
      ]
     },
     "execution_count": 104,
     "metadata": {},
     "output_type": "execute_result"
    }
   ],
   "source": [
    "inf_carros = [carros, anos, kms]\n",
    "inf_carros"
   ]
  },
  {
   "cell_type": "code",
   "execution_count": 106,
   "metadata": {},
   "outputs": [
    {
     "data": {
      "text/plain": [
       "5"
      ]
     },
     "execution_count": 106,
     "metadata": {},
     "output_type": "execute_result"
    }
   ],
   "source": [
    "len(inf_carros[0])"
   ]
  },
  {
   "cell_type": "code",
   "execution_count": 110,
   "metadata": {},
   "outputs": [
    {
     "name": "stdout",
     "output_type": "stream",
     "text": [
      "[['Uno', 'Monza', 'BMW', 'Fusca', 'Opala'], [2000, 2010, 2020, 1990, 1980], [12500, 50000, 100, 343434, 7777], [543.48, 3846.15, 33.33, 10407.09, 180.86]]\n"
     ]
    }
   ],
   "source": [
    "# Exercicio 3 Aula 3\n",
    "'''\n",
    "Ler a lista de informação de carros, gerar uma nova lista dentro de inf_carros com a quilometragem_media de cada carro\n",
    "Lista chama media -> quilometragem media = quilometragem(km) / (ano atual - ano fabricacao)\n",
    "Ex: round(11111 / (2023 - 1997), 2)\n",
    "'''\n",
    "\n",
    "media_km = []\n",
    "\n",
    "for i in range(len(inf_carros[0])):\n",
    "    km = round(inf_carros[2][i] / (2023 - inf_carros[1][i]),2)\n",
    "    media_km.append(km)\n",
    "inf_carros.append(media_km)\n",
    "\n",
    "print(inf_carros)"
   ]
  }
 ],
 "metadata": {
  "kernelspec": {
   "display_name": "Python 3",
   "language": "python",
   "name": "python3"
  },
  "language_info": {
   "codemirror_mode": {
    "name": "ipython",
    "version": 3
   },
   "file_extension": ".py",
   "mimetype": "text/x-python",
   "name": "python",
   "nbconvert_exporter": "python",
   "pygments_lexer": "ipython3",
   "version": "3.11.5"
  },
  "orig_nbformat": 4
 },
 "nbformat": 4,
 "nbformat_minor": 2
}
