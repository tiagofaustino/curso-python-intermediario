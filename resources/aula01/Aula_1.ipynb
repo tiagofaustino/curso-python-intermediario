{
 "cells": [
  {
   "cell_type": "code",
   "execution_count": 27,
   "metadata": {},
   "outputs": [
    {
     "data": {
      "text/plain": [
       "str"
      ]
     },
     "execution_count": 27,
     "metadata": {},
     "output_type": "execute_result"
    }
   ],
   "source": [
    "info = 'rodrigo'\n",
    "type(info)"
   ]
  },
  {
   "cell_type": "code",
   "execution_count": 28,
   "metadata": {},
   "outputs": [
    {
     "data": {
      "text/plain": [
       "int"
      ]
     },
     "execution_count": 28,
     "metadata": {},
     "output_type": "execute_result"
    }
   ],
   "source": [
    "info = 123\n",
    "type(info)"
   ]
  },
  {
   "cell_type": "code",
   "execution_count": 29,
   "metadata": {},
   "outputs": [
    {
     "data": {
      "text/plain": [
       "float"
      ]
     },
     "execution_count": 29,
     "metadata": {},
     "output_type": "execute_result"
    }
   ],
   "source": [
    "info = 123.12\n",
    "type(info)"
   ]
  },
  {
   "cell_type": "code",
   "execution_count": 30,
   "metadata": {},
   "outputs": [
    {
     "name": "stdout",
     "output_type": "stream",
     "text": [
      "123.12\n"
     ]
    }
   ],
   "source": [
    "print(info)"
   ]
  },
  {
   "cell_type": "code",
   "execution_count": 31,
   "metadata": {},
   "outputs": [
    {
     "name": "stdout",
     "output_type": "stream",
     "text": [
      "o valor da variável é: 123.12\n"
     ]
    }
   ],
   "source": [
    "print(\"o valor da variável é:\", info)"
   ]
  },
  {
   "cell_type": "code",
   "execution_count": 32,
   "metadata": {},
   "outputs": [
    {
     "data": {
      "text/plain": [
       "14"
      ]
     },
     "execution_count": 32,
     "metadata": {},
     "output_type": "execute_result"
    }
   ],
   "source": [
    "nome = 'Tiago'\n",
    "sobrenome = 'Faustino'\n",
    "nome_completo = nome + ' ' + sobrenome\n",
    "nome_completo\n",
    "len(nome_completo)\n",
    "# %%\n"
   ]
  },
  {
   "cell_type": "code",
   "execution_count": 33,
   "metadata": {},
   "outputs": [
    {
     "data": {
      "text/plain": [
       "13.3"
      ]
     },
     "execution_count": 33,
     "metadata": {},
     "output_type": "execute_result"
    }
   ],
   "source": [
    "num4 = 6.3\n",
    "num5 = 7\n",
    "num6 = num4 + num5\n",
    "num6"
   ]
  },
  {
   "cell_type": "code",
   "execution_count": 34,
   "metadata": {},
   "outputs": [
    {
     "data": {
      "text/plain": [
       "2"
      ]
     },
     "execution_count": 34,
     "metadata": {},
     "output_type": "execute_result"
    }
   ],
   "source": [
    "11%3"
   ]
  },
  {
   "cell_type": "code",
   "execution_count": 35,
   "metadata": {},
   "outputs": [
    {
     "data": {
      "text/plain": [
       "8"
      ]
     },
     "execution_count": 35,
     "metadata": {},
     "output_type": "execute_result"
    }
   ],
   "source": [
    "2**3"
   ]
  },
  {
   "cell_type": "code",
   "execution_count": 36,
   "metadata": {},
   "outputs": [],
   "source": [
    "nome = 'rodrigo'\n",
    "cargo = 'consultor'\n",
    "idade = '30'\n",
    "empresa = 'accenture'"
   ]
  },
  {
   "cell_type": "code",
   "execution_count": 37,
   "metadata": {},
   "outputs": [],
   "source": [
    "import os\n",
    "file_dir = os.path.dirname(os.path.realpath('__file__'))\n",
    "arq = os.path.join(file_dir, 'dados.txt')\n",
    "arquivo = open(arq, \"w\")"
   ]
  },
  {
   "cell_type": "code",
   "execution_count": 38,
   "metadata": {},
   "outputs": [
    {
     "data": {
      "text/plain": [
       "_io.TextIOWrapper"
      ]
     },
     "execution_count": 38,
     "metadata": {},
     "output_type": "execute_result"
    }
   ],
   "source": [
    "type(arquivo)"
   ]
  },
  {
   "cell_type": "code",
   "execution_count": 39,
   "metadata": {},
   "outputs": [
    {
     "data": {
      "text/plain": [
       "9"
      ]
     },
     "execution_count": 39,
     "metadata": {},
     "output_type": "execute_result"
    }
   ],
   "source": [
    "arquivo.write(nome)\n",
    "arquivo.write(cargo)\n",
    "arquivo.write(idade)\n",
    "arquivo.write(empresa)"
   ]
  },
  {
   "cell_type": "code",
   "execution_count": 40,
   "metadata": {},
   "outputs": [],
   "source": [
    "arquivo.close()"
   ]
  },
  {
   "cell_type": "code",
   "execution_count": 41,
   "metadata": {},
   "outputs": [],
   "source": [
    "nome = 'rodrigo\\n'\n",
    "cargo = 'consultor\\n'\n",
    "idade = '30\\n'\n",
    "empresa = 'microsoft'"
   ]
  },
  {
   "cell_type": "code",
   "execution_count": 42,
   "metadata": {},
   "outputs": [],
   "source": [
    "arquivo = open(arq, \"w\")\n",
    "arquivo.write(nome)\n",
    "arquivo.write(cargo)\n",
    "arquivo.write(idade)\n",
    "arquivo.write(empresa)\n",
    "arquivo.close()"
   ]
  },
  {
   "cell_type": "code",
   "execution_count": 43,
   "metadata": {},
   "outputs": [],
   "source": [
    "leitura = open(arq, 'r')"
   ]
  },
  {
   "cell_type": "code",
   "execution_count": 44,
   "metadata": {},
   "outputs": [
    {
     "name": "stdout",
     "output_type": "stream",
     "text": [
      "['rodrigo\\n', 'consultor\\n', '30\\n', 'microsoft']\n"
     ]
    }
   ],
   "source": [
    "linhas = leitura.readlines()\n",
    "print(linhas)\n",
    "leitura.close()"
   ]
  },
  {
   "cell_type": "code",
   "execution_count": 45,
   "metadata": {},
   "outputs": [
    {
     "name": "stdout",
     "output_type": "stream",
     "text": [
      "rodrigo\n",
      "\n",
      "consultor\n",
      "\n",
      "30\n",
      "\n"
     ]
    }
   ],
   "source": [
    "leitura = open(arq, 'r')\n",
    "linha = leitura.readline()\n",
    "print(linha)\n",
    "\n",
    "linha = leitura.readline()\n",
    "print(linha)\n",
    "\n",
    "linha = leitura.readline()\n",
    "print(linha)\n",
    "\n",
    "leitura.close()"
   ]
  },
  {
   "cell_type": "code",
   "execution_count": 46,
   "metadata": {},
   "outputs": [
    {
     "name": "stdout",
     "output_type": "stream",
     "text": [
      "rodrigo\n",
      "consultor\n",
      "30\n",
      "microsoft\n"
     ]
    }
   ],
   "source": [
    "leitura = open(arq, 'r')\n",
    "linha = leitura.readline()\n",
    "print(linha.replace('\\n', ''))\n",
    "\n",
    "linha = leitura.readline()\n",
    "print(linha.replace('\\n', ''))\n",
    "\n",
    "linha = leitura.readline()\n",
    "print(linha.replace('\\n', ''))\n",
    "\n",
    "linha = leitura.readline()\n",
    "print(linha.replace('\\n', ''))\n",
    "\n",
    "leitura.close()"
   ]
  },
  {
   "cell_type": "code",
   "execution_count": 47,
   "metadata": {},
   "outputs": [
    {
     "data": {
      "text/plain": [
       "'RODRIGO'"
      ]
     },
     "execution_count": 47,
     "metadata": {},
     "output_type": "execute_result"
    }
   ],
   "source": [
    "nome.replace('\\n', '').upper()"
   ]
  },
  {
   "cell_type": "code",
   "execution_count": 48,
   "metadata": {},
   "outputs": [
    {
     "name": "stdout",
     "output_type": "stream",
     "text": [
      "123.12\n"
     ]
    },
    {
     "data": {
      "text/plain": [
       "123"
      ]
     },
     "execution_count": 48,
     "metadata": {},
     "output_type": "execute_result"
    }
   ],
   "source": [
    "print(info)\n",
    "num = int(info)\n",
    "num"
   ]
  },
  {
   "cell_type": "markdown",
   "metadata": {},
   "source": [
    "- Gravar um arquivo com o ano corrente e o ano em que entraram na empresa \n",
    "- Depois ler o arquivo, \n",
    "- Salvar as informações em 2 variáveis diferentes \n",
    "- E calcular a quantidade de anos em que trabalharam na empresa"
   ]
  },
  {
   "cell_type": "code",
   "execution_count": 49,
   "metadata": {},
   "outputs": [
    {
     "name": "stdout",
     "output_type": "stream",
     "text": [
      "Tempo de empresa: 2 ano(s)\n"
     ]
    }
   ],
   "source": [
    "#inicia o arquivo em modo de escrita\n",
    "import os\n",
    "current_dir = os.path.dirname(os.path.realpath('__file__')) #pega o diretório corrente do arquivo\n",
    "url_ex1 = os.path.join(current_dir, 'exercicio-anos-empresa.txt') #junta as informações de path do arquivo\n",
    "arquivo_ex1 = open(url_ex1, \"w\")\n",
    "\n",
    "#cria as váriaveis\n",
    "ano_entrada = '2021\\n'\n",
    "ano_atual = '2023'\n",
    "\n",
    "#escreve os valores no arquivo\n",
    "arquivo_ex1.write(ano_entrada)\n",
    "arquivo_ex1.write(ano_atual)\n",
    "arquivo_ex1.close()\n",
    "\n",
    "#lê o arquivo\n",
    "leitura_ex1 = open(url_ex1, 'r')\n",
    "valor_ano_entrada = int(leitura_ex1.readline().replace('\\n', ''))\n",
    "valor_ano_atual = int(leitura_ex1.readline())\n",
    "leitura_ex1.close()\n",
    "\n",
    "\n",
    "#calcula o tempo de empresa\n",
    "tempo_empresa = valor_ano_atual - valor_ano_entrada\n",
    "print('Tempo de empresa:', tempo_empresa, 'ano(s)')"
   ]
  }
 ],
 "metadata": {
  "kernelspec": {
   "display_name": "Python 3",
   "language": "python",
   "name": "python3"
  },
  "language_info": {
   "codemirror_mode": {
    "name": "ipython",
    "version": 3
   },
   "file_extension": ".py",
   "mimetype": "text/x-python",
   "name": "python",
   "nbconvert_exporter": "python",
   "pygments_lexer": "ipython3",
   "version": "3.11.5"
  },
  "orig_nbformat": 4
 },
 "nbformat": 4,
 "nbformat_minor": 2
}
